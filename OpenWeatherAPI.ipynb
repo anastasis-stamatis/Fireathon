{
 "cells": [
  {
   "cell_type": "markdown",
   "metadata": {},
   "source": [
    "# OpenWeather API\n",
    "Getting data from Open Weather Map: http://openweathermap.org/\n",
    "Deserializing the JSON file and extracting the weather data required "
   ]
  },
  {
   "cell_type": "code",
   "execution_count": 1,
   "metadata": {},
   "outputs": [],
   "source": [
    "# Imports\n",
    "import datetime\n",
    "import json\n",
    "import urllib.request"
   ]
  },
  {
   "cell_type": "code",
   "execution_count": 2,
   "metadata": {},
   "outputs": [],
   "source": [
    "# Build the url for API connection\n",
    "def url_builder(geoX,geoY):\n",
    "    user_api = '14bb2f82a98398dc88df2d0bdb338538' \n",
    "    unit = 'metric' \n",
    "    api = 'http://api.openweathermap.org/data/2.5/weather?lat='\n",
    "\n",
    "    full_api_url = api + str(geoY) + '&lon=' + str(geoX) + '&mode=json&units=' + unit + '&APPID=' + user_api\n",
    "    return full_api_url"
   ]
  },
  {
   "cell_type": "code",
   "execution_count": 3,
   "metadata": {},
   "outputs": [],
   "source": [
    "# Get json file from API\n",
    "def data_fetch(full_api_url):\n",
    "    url = urllib.request.urlopen(full_api_url)\n",
    "    output = url.read().decode('utf-8')\n",
    "    raw_api_dict = json.loads(output)\n",
    "    url.close()\n",
    "    return raw_api_dict"
   ]
  },
  {
   "cell_type": "code",
   "execution_count": 4,
   "metadata": {},
   "outputs": [],
   "source": [
    "# Deserialize json to dictionary\n",
    "def data_organizer(raw_api_dict):\n",
    "    data = dict(\n",
    "        city=raw_api_dict.get('name'),\n",
    "        country=raw_api_dict.get('sys').get('country'),\n",
    "        temp=raw_api_dict.get('main').get('temp'),\n",
    "        temp_max=raw_api_dict.get('main').get('temp_max'),\n",
    "        temp_min=raw_api_dict.get('main').get('temp_min'),\n",
    "        humidity=raw_api_dict.get('main').get('humidity'),\n",
    "        pressure=raw_api_dict.get('main').get('pressure'),\n",
    "        sky=raw_api_dict['weather'][0]['main'],\n",
    "        wind=raw_api_dict.get('wind').get('speed'),\n",
    "        wind_deg=raw_api_dict.get('deg'),\n",
    "        cloudiness=raw_api_dict.get('clouds').get('all')\n",
    "    )\n",
    "    return data"
   ]
  },
  {
   "cell_type": "code",
   "execution_count": 5,
   "metadata": {},
   "outputs": [],
   "source": [
    "# Extract weather data of interest\n",
    "def data_output(data):\n",
    "    iTemp = data['temp']\n",
    "    fWindSpeed = data['wind']\n",
    "    fHumidity = data['humidity']\n",
    "    fCloud = data['cloudiness']\n",
    "    fPressure = data['pressure']\n",
    "    # Sky dictionary\n",
    "    dSky = {'Clear' : 0 , 'Clouds' : 0.5  }\n",
    "    sSky = data['sky']\n",
    "    if sSky in dSky:\n",
    "        iSky = dSky[sSky]\n",
    "    else:\n",
    "        iSky = 1\n",
    "    \n",
    "    #Cloud variable:\n",
    "    \n",
    "    return iTemp , fWindSpeed , fHumidity , fCloud , iSky, fPressure       "
   ]
  }
 ],
 "metadata": {
  "kernelspec": {
   "display_name": "Python 3",
   "language": "python",
   "name": "python3"
  },
  "language_info": {
   "codemirror_mode": {
    "name": "ipython",
    "version": 3
   },
   "file_extension": ".py",
   "mimetype": "text/x-python",
   "name": "python",
   "nbconvert_exporter": "python",
   "pygments_lexer": "ipython3",
   "version": "3.6.5"
  }
 },
 "nbformat": 4,
 "nbformat_minor": 2
}
