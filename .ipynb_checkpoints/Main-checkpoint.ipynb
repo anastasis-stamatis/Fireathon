{
 "cells": [
  {
   "cell_type": "markdown",
   "metadata": {},
   "source": [
    "## Description\n",
    "This code was created as part of the HERMIT project for the Fireathon that took place in Athens following the tragic fire of July 23rd 2018 in Mati, Attiki. Our solution involved the combination of different data (government information, open weather data, information from IoT sensors and hazards identified by users) in order to create a refined version of the daily fire hazard map."
   ]
  },
  {
   "cell_type": "code",
   "execution_count": 3,
   "metadata": {},
   "outputs": [],
   "source": [
    "# Indicative run\n",
    "# Load components\n",
    "%run Fire_map.ipynb\n",
    "%run OpenWeatherAPI.ipynb\n",
    "%run RiskLevel.ipynb"
   ]
  },
  {
   "cell_type": "code",
   "execution_count": 4,
   "metadata": {},
   "outputs": [
    {
     "name": "stdout",
     "output_type": "stream",
     "text": [
      "3\n"
     ]
    }
   ],
   "source": [
    "# Get risk level for defined map coordinates\n",
    "# An indicative example of how the function would work within the designed app\n",
    "geoX=21.781894\n",
    "geoY=36.919710\n",
    "\n",
    "RiskLevel = getRiskLevelForGeoCoords(geoX, geoY)\n",
    "print (RiskLevel)"
   ]
  },
  {
   "cell_type": "code",
   "execution_count": 5,
   "metadata": {},
   "outputs": [],
   "source": [
    "# Get weather data from OpenWeather API\n",
    "iTemp , fWindSpeed , fHumidity , fCloud , iSky, fPressure = data_output(data_organizer(data_fetch(url_builder(geoX,geoY))))"
   ]
  },
  {
   "cell_type": "code",
   "execution_count": 8,
   "metadata": {},
   "outputs": [
    {
     "name": "stdout",
     "output_type": "stream",
     "text": [
      "3\n",
      "1\n",
      "2\n",
      "1\n",
      "1\n",
      "1\n",
      "The refined risk value is:  3\n"
     ]
    }
   ],
   "source": [
    "# Get refined risk level based on new data\n",
    "\n",
    "iPoint = 0 # boolean variable to determine whether there is an additional hazard in proximity (e.g. tall grass)\n",
    "fRisk, iRisk = FindRiskLevel(RiskLevel,iTemp,fWindSpeed,fHumidity,fPressure,fCloud,iSky,iPoint)\n",
    "\n",
    "print ('The refined risk value is: ', iRisk)"
   ]
  },
  {
   "cell_type": "code",
   "execution_count": null,
   "metadata": {},
   "outputs": [],
   "source": []
  }
 ],
 "metadata": {
  "kernelspec": {
   "display_name": "Python 3",
   "language": "python",
   "name": "python3"
  },
  "language_info": {
   "codemirror_mode": {
    "name": "ipython",
    "version": 3
   },
   "file_extension": ".py",
   "mimetype": "text/x-python",
   "name": "python",
   "nbconvert_exporter": "python",
   "pygments_lexer": "ipython3",
   "version": "3.6.5"
  }
 },
 "nbformat": 4,
 "nbformat_minor": 2
}
