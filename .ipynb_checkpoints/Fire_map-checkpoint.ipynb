{
 "cells": [
  {
   "cell_type": "markdown",
   "metadata": {},
   "source": [
    "# Fire_map\n",
    "This segment was used to bring in a daily hazard map in a jpeg format and understand the level of hazard at a defined set of coordinates, based on the pixel color. Our quick fix solution, in terms of the hackathon, involved scaling on the map based on a set of reference coordinates."
   ]
  },
  {
   "cell_type": "code",
   "execution_count": null,
   "metadata": {},
   "outputs": [],
   "source": [
    "# Imports\n",
    "from PIL import Image\n",
    "import requests\n",
    "from io import BytesIO"
   ]
  },
  {
   "cell_type": "code",
   "execution_count": null,
   "metadata": {},
   "outputs": [],
   "source": [
    "# Find and download image\n",
    "\n",
    "def getPPImage():\n",
    "    response = requests.get('https://www.civilprotection.gr/sites/default/gscp_uploads/180723.jpg')\n",
    "    img = Image.open(BytesIO(response.content))\n",
    "    return img"
   ]
  },
  {
   "cell_type": "code",
   "execution_count": null,
   "metadata": {},
   "outputs": [],
   "source": [
    "# Master function. Get risk levels for the requested coordinates\n",
    "def getRiskLevelForGeoCoords(geoX, geoY):\n",
    "    # Get image\n",
    "    ppImg = getPPImage()\n",
    "    imgX, imgY = getPixelForCoords(geoX, geoY)\n",
    "    # Get pixel RGB value for corresponding imgX, imgY\n",
    "    colorRGB = ppImg.getpixel((imgX, imgY))\n",
    "    # Convert pixel RBG to risk level\n",
    "    \n",
    "    return getRiskLevelForColor(colorRGB)"
   ]
  },
  {
   "cell_type": "code",
   "execution_count": null,
   "metadata": {},
   "outputs": [],
   "source": [
    "# Define the Risk Level for a specific color on the map\n",
    "def getRiskLevelForColor(colorRGBValue):\n",
    "    redValuesToRiskLevel = [(171,254,162), (168,200,238), (250,255,8), (251,174,0), (250,3,0)]\n",
    "    selectedCandidate = -1\n",
    "    bestMatch = 0xffffff\n",
    "    for cCandidate in redValuesToRiskLevel:\n",
    "        (candR, candG, candB) = cCandidate\n",
    "        colorR, colorG, colorB = colorRGBValue\n",
    "        candRDiff = abs(candR - colorR)\n",
    "        candGDiff = abs(candG - colorG)\n",
    "        candBDiff = abs(candB - colorB)\n",
    "        \n",
    "        candDiff = (candRDiff**2 + candGDiff**2 + candBDiff**2)**(1/2)\n",
    "        if candDiff < bestMatch:\n",
    "            selectedCandidate = cCandidate\n",
    "            bestMatch = candDiff\n",
    "            \n",
    "    # At this point we have the best match\n",
    "    return redValuesToRiskLevel.index(selectedCandidate) + 1"
   ]
  },
  {
   "cell_type": "code",
   "execution_count": null,
   "metadata": {},
   "outputs": [],
   "source": [
    "# Find the pixel for a set of Coordinates\n",
    "def getPixelForCoords(geoX, geoY):\n",
    "    imgX = 10 + (800/10.9) * (geoX - 19.1162)\n",
    "    imgY = 95 + (710/7.42) * (41.8614 - geoY)\n",
    "    return (imgX, imgY)"
   ]
  }
 ],
 "metadata": {
  "kernelspec": {
   "display_name": "Python 3",
   "language": "python",
   "name": "python3"
  },
  "language_info": {
   "codemirror_mode": {
    "name": "ipython",
    "version": 3
   },
   "file_extension": ".py",
   "mimetype": "text/x-python",
   "name": "python",
   "nbconvert_exporter": "python",
   "pygments_lexer": "ipython3",
   "version": "3.6.5"
  }
 },
 "nbformat": 4,
 "nbformat_minor": 2
}
